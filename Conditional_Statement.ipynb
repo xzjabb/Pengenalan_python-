{
  "nbformat": 4,
  "nbformat_minor": 0,
  "metadata": {
    "colab": {
      "provenance": [],
      "authorship_tag": "ABX9TyOJSGhUNAnFMKs02KXTLpb6",
      "include_colab_link": true
    },
    "kernelspec": {
      "name": "python3",
      "display_name": "Python 3"
    },
    "language_info": {
      "name": "python"
    }
  },
  "cells": [
    {
      "cell_type": "markdown",
      "metadata": {
        "id": "view-in-github",
        "colab_type": "text"
      },
      "source": [
        "<a href=\"https://colab.research.google.com/github/xzjabb/Pengenalan_python-/blob/main/Conditional_Statement.ipynb\" target=\"_parent\"><img src=\"https://colab.research.google.com/assets/colab-badge.svg\" alt=\"Open In Colab\"/></a>"
      ]
    },
    {
      "cell_type": "markdown",
      "source": [
        "# Kondisi pertama\n",
        "Kita memiliki suatu integer dan tiga kondisi. Yang pertama adalah kondisi if untuk mengecek apakah nomor tersebut sama dengan 10. Yang kedua adalah kondisi elif. Disini kita akan memeriksa apakah nomor tersebut kurang dari 10. Yang terakhir adalah kondisi else. Kondisi ini akan tereksekusi jika kedua kondisi sebelumnya tidak memenuhi syarat."
      ],
      "metadata": {
        "id": "ofUbZXXxOUq6"
      }
    },
    {
      "cell_type": "code",
      "execution_count": null,
      "metadata": {
        "colab": {
          "base_uri": "https://localhost:8080/"
        },
        "id": "XQBal2fUOJF_",
        "outputId": "5e8d83cd-fb78-42bc-acc9-b448a691eb23"
      },
      "outputs": [
        {
          "output_type": "stream",
          "name": "stdout",
          "text": [
            "angka adalah kurang dari 10\n"
          ]
        }
      ],
      "source": [
        "angka = 5\n",
        "if angka == 10:\n",
        "    print(\"angka adalah 10\")\n",
        "elif angka < 10:\n",
        "    print(\"angka adalah kurang dari 10\")\n",
        "else:\n",
        "    print(\"angka adalah lebih dari 10\")"
      ]
    },
    {
      "cell_type": "markdown",
      "source": [
        "# Kondisi Kedua\n",
        "Pada kasus ini kita akan memiliki variabel boolean dan dua kondisi. Pada contoh sebelumnya ketika kita membahas mengenai boolean apakah benar atau salah? Saat ini kita akan menggunakannya kembali pada conditional statement."
      ],
      "metadata": {
        "id": "WavqsDniPoUO"
      }
    },
    {
      "cell_type": "code",
      "source": [
        "anda_robot = False\n",
        "if anda_robot:\n",
        "    print (\"Ya, saya robot\")\n",
        "else:\n",
        "    print (\"bukan, saya manusia\")\n"
      ],
      "metadata": {
        "colab": {
          "base_uri": "https://localhost:8080/"
        },
        "id": "ZJP1yLWfPvRM",
        "outputId": "4e1d0b87-85a7-4f52-8550-30f4cbd62b2b"
      },
      "execution_count": null,
      "outputs": [
        {
          "output_type": "stream",
          "name": "stdout",
          "text": [
            "bukan, saya manusia\n"
          ]
        }
      ]
    },
    {
      "cell_type": "markdown",
      "source": [
        "# kondisi ketiga\n",
        "Pada contoh ini kita akan membuat kondisi berkebalikan dari kondisi kedua dengan operator not."
      ],
      "metadata": {
        "id": "NAA3uN7BP3MH"
      }
    },
    {
      "cell_type": "code",
      "source": [
        "anda_robot = False\n",
        "if not anda_robot:\n",
        "    print (\"Ya, saya robot\")\n",
        "else:\n",
        "    print (\"bukan, saya manusia\")\n"
      ],
      "metadata": {
        "colab": {
          "base_uri": "https://localhost:8080/"
        },
        "id": "CsJVbIp6QCBR",
        "outputId": "f876c9d5-102f-48f0-982b-baacdf9578d9"
      },
      "execution_count": null,
      "outputs": [
        {
          "output_type": "stream",
          "name": "stdout",
          "text": [
            "Ya, saya robot\n"
          ]
        }
      ]
    },
    {
      "cell_type": "markdown",
      "source": [
        "## kondisi keempat\n",
        "Disini kita akan mendeklarasikan data sebagai None, lalu memeriksanya jika data tersebut ada atau tidak."
      ],
      "metadata": {
        "id": "Bb6_qqOyQIFk"
      }
    },
    {
      "cell_type": "code",
      "source": [
        "data = None\n",
        "if data:\n",
        "    print (\"data bukan none\")\n",
        "else:\n",
        "    print (\"data adalah none\")\n"
      ],
      "metadata": {
        "id": "f9eXLoWrQSr4"
      },
      "execution_count": null,
      "outputs": []
    },
    {
      "cell_type": "markdown",
      "source": [
        "# Kondisi kelima\n",
        "Anda pun dapat menggunakan if dalam satu baris pada bahasa pemrograman Python. Syntax nya akan terlihat seperti pada"
      ],
      "metadata": {
        "id": "RJFOkmANQWrE"
      }
    },
    {
      "cell_type": "code",
      "source": [
        "a = 10\n",
        "b = 5\n",
        "if a > b: print(\"a lebih besar dari b\")\n"
      ],
      "metadata": {
        "colab": {
          "base_uri": "https://localhost:8080/"
        },
        "id": "6TNh8DC_Qb2n",
        "outputId": "f1ca3d94-9a8b-42a6-e15a-3859b6b2b535"
      },
      "execution_count": null,
      "outputs": [
        {
          "output_type": "stream",
          "name": "stdout",
          "text": [
            "a lebih besar dari b\n"
          ]
        }
      ]
    },
    {
      "cell_type": "markdown",
      "source": [
        "# Kondisi keenam\n",
        "Anda pun dapat menggunakan if else dalam satu baris, seperti pada contoh di bawah ini"
      ],
      "metadata": {
        "id": "6gxI9aWvQnwz"
      }
    },
    {
      "cell_type": "code",
      "source": [
        "num = 5\n",
        "print(\"Angka adalah lima \") if num == 5 else print(\"Angka bukan lima\")\n"
      ],
      "metadata": {
        "colab": {
          "base_uri": "https://localhost:8080/"
        },
        "id": "Zuh_bxFGQwOI",
        "outputId": "7a35099c-fc41-401d-9a50-fa7fe17577ec"
      },
      "execution_count": null,
      "outputs": [
        {
          "output_type": "stream",
          "name": "stdout",
          "text": [
            "Angka adalah lima \n"
          ]
        }
      ]
    },
    {
      "cell_type": "markdown",
      "source": [
        "# Kondisi ketuju\n",
        "Anda pun dapat menggunakan nested if-else statement, yaitu:"
      ],
      "metadata": {
        "id": "j-x5YJwtQ1bB"
      }
    },
    {
      "cell_type": "code",
      "source": [
        "num = 25\n",
        "if num > 10:\n",
        "    print(\"Angka lebih besar dari 10\")\n",
        "    if num > 20:\n",
        "        print(\"Angka lebih besar dari 20\")\n",
        "    if num > 30:\n",
        "        print(\"Angka lebih besar dari 30\")\n",
        "else:\n",
        "    print(\"Angka lebih kecil dari 10\")\n"
      ],
      "metadata": {
        "colab": {
          "base_uri": "https://localhost:8080/"
        },
        "id": "ALfshSRZQ8x_",
        "outputId": "9980a76d-1aa5-4470-c6b6-e47aa612c3db"
      },
      "execution_count": null,
      "outputs": [
        {
          "output_type": "stream",
          "name": "stdout",
          "text": [
            "Angka lebih besar dari 10\n",
            "Angka lebih besar dari 20\n"
          ]
        }
      ]
    },
    {
      "cell_type": "markdown",
      "source": [
        "# Kondisi kedelapan\n",
        "Anda dapat pula mengunakan operator and pada conditional statement. Operator ini menyatakan jika kondisi 1 dan 2 keduanya adalah benar"
      ],
      "metadata": {
        "id": "NRPJ3D0yRHcI"
      }
    },
    {
      "cell_type": "code",
      "source": [
        "num = 10\n",
        "if num > 5 and num < 15:\n",
        "     print(num)\n",
        "else:\n",
        "     print(\"Angka bisa lebih kecil dari 5 atau lebih besar dari 15\")\n"
      ],
      "metadata": {
        "colab": {
          "base_uri": "https://localhost:8080/"
        },
        "id": "-OzitpvgRTT_",
        "outputId": "f3474f94-e421-4467-bd95-54a7e8b9bf99"
      },
      "execution_count": null,
      "outputs": [
        {
          "output_type": "stream",
          "name": "stdout",
          "text": [
            "10\n"
          ]
        }
      ]
    },
    {
      "cell_type": "markdown",
      "source": [
        "# kondisi kesembilan\n",
        "Anda pun dapat menggunakan operator or dalam pernyataan bersyarat. Hal ini untuk menyatakan bahwa jika salah satu kondisi 1 atau kondisi 2 benar, sehingga program akan di eksekusi."
      ],
      "metadata": {
        "id": "FYjiAWdnRWiJ"
      }
    },
    {
      "cell_type": "code",
      "source": [
        "um = 10\n",
        "if num > 5 or num < 7:\n",
        "     print(num)\n"
      ],
      "metadata": {
        "colab": {
          "base_uri": "https://localhost:8080/"
        },
        "id": "YeO4e4VYRcWZ",
        "outputId": "e5800dce-8914-494c-b526-467e55f90a0c"
      },
      "execution_count": null,
      "outputs": [
        {
          "output_type": "stream",
          "name": "stdout",
          "text": [
            "10\n"
          ]
        }
      ]
    }
  ]
}