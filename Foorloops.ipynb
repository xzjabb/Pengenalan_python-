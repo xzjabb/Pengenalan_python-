{
  "nbformat": 4,
  "nbformat_minor": 0,
  "metadata": {
    "colab": {
      "provenance": [],
      "authorship_tag": "ABX9TyNmNAAvuJazcv1iGQo6ds+O",
      "include_colab_link": true
    },
    "kernelspec": {
      "name": "python3",
      "display_name": "Python 3"
    },
    "language_info": {
      "name": "python"
    }
  },
  "cells": [
    {
      "cell_type": "markdown",
      "metadata": {
        "id": "view-in-github",
        "colab_type": "text"
      },
      "source": [
        "<a href=\"https://colab.research.google.com/github/xzjabb/Pengenalan_python-/blob/main/Foorloops.ipynb\" target=\"_parent\"><img src=\"https://colab.research.google.com/assets/colab-badge.svg\" alt=\"Open In Colab\"/></a>"
      ]
    },
    {
      "cell_type": "markdown",
      "source": [
        "# FoorLoops\n",
        "Metode lain yang berguna dalam bahasa pemrograman Python adalah iterator. Hal ini sangat membantu jika Anda ingin melakukan sesuatu beberapa kali.\n",
        "\n",
        "Dapat dibayangkan jika kita ingin menulis kata \"Hai\" sebanyak seribu kali, tentu kode program kita akan sangat sulit untuk di baca, selain itu, kemungkinan terjadinya kesalahan sangat lah besar. Oleh karena itu, kita dapat menggunakan suatu cara yang disebut loop atau iterator. Ada dua cara untuk menjalankan perintah tersebut, yaitu dengan for atau while loop"
      ],
      "metadata": {
        "id": "4-D9P84IFehA"
      }
    },
    {
      "cell_type": "code",
      "execution_count": 1,
      "metadata": {
        "colab": {
          "base_uri": "https://localhost:8080/"
        },
        "id": "1n-dFRxkFUwR",
        "outputId": "16228e14-38c0-4738-8ea7-e88a881fb32e"
      },
      "outputs": [
        {
          "output_type": "stream",
          "name": "stdout",
          "text": [
            "Hai\n",
            "Hai\n",
            "Hai\n"
          ]
        }
      ],
      "source": [
        "for i in range(3):\n",
        "   print(\"Hai\")\n"
      ]
    },
    {
      "cell_type": "code",
      "source": [
        "for i in range(1,3):\n",
        "   print(\"Hai\")\n"
      ],
      "metadata": {
        "colab": {
          "base_uri": "https://localhost:8080/"
        },
        "id": "tRXED2mLGTYa",
        "outputId": "3ce85271-3bea-4ccf-a111-62edea324485"
      },
      "execution_count": 3,
      "outputs": [
        {
          "output_type": "stream",
          "name": "stdout",
          "text": [
            "Hai\n",
            "Hai\n"
          ]
        }
      ]
    },
    {
      "cell_type": "code",
      "source": [
        "for i in range(3):\n",
        "     for j in range(2):\n",
        "        print(\"loop di dalam\")\n",
        "     print(\"loop di luar\")\n"
      ],
      "metadata": {
        "colab": {
          "base_uri": "https://localhost:8080/"
        },
        "id": "kMp_mst9Gd7b",
        "outputId": "67a4ea48-3c73-4ccf-963d-22f6e761e08f"
      },
      "execution_count": 4,
      "outputs": [
        {
          "output_type": "stream",
          "name": "stdout",
          "text": [
            "loop di dalam\n",
            "loop di dalam\n",
            "loop di luar\n",
            "loop di dalam\n",
            "loop di dalam\n",
            "loop di luar\n",
            "loop di dalam\n",
            "loop di dalam\n",
            "loop di luar\n"
          ]
        }
      ]
    },
    {
      "cell_type": "code",
      "source": [
        "for i in range(3):\n",
        "  print(\"Hai\")\n",
        "else:\n",
        "  print(\"Selesai\")\n"
      ],
      "metadata": {
        "colab": {
          "base_uri": "https://localhost:8080/"
        },
        "id": "Sisiou1jGZby",
        "outputId": "c45b9d4b-d57b-4ef2-8cfa-44d167816633"
      },
      "execution_count": 2,
      "outputs": [
        {
          "output_type": "stream",
          "name": "stdout",
          "text": [
            "Hai\n",
            "Hai\n",
            "Hai\n",
            "Selesai\n"
          ]
        }
      ]
    }
  ]
}