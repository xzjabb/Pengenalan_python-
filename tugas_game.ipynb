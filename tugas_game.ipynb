{
  "nbformat": 4,
  "nbformat_minor": 0,
  "metadata": {
    "colab": {
      "provenance": [],
      "authorship_tag": "ABX9TyOBejS79pzWBq6Fhod8roV7",
      "include_colab_link": true
    },
    "kernelspec": {
      "name": "python3",
      "display_name": "Python 3"
    },
    "language_info": {
      "name": "python"
    }
  },
  "cells": [
    {
      "cell_type": "markdown",
      "metadata": {
        "id": "view-in-github",
        "colab_type": "text"
      },
      "source": [
        "<a href=\"https://colab.research.google.com/github/xzjabb/Pengenalan_python-/blob/main/tugas_game.ipynb\" target=\"_parent\"><img src=\"https://colab.research.google.com/assets/colab-badge.svg\" alt=\"Open In Colab\"/></a>"
      ]
    },
    {
      "cell_type": "code",
      "source": [
        "import random\n",
        "\n",
        "#daftar buah yang akan ditebak\n",
        "buah = [\"apel\", \"jeruk\", \"pisang\", \"mangga\", \"stroberi\", \"semangka\", \"anggur\", \"nanas\", \"kiwi\", \"sirsak\"]\n",
        "\n",
        "def main():\n",
        "    print(\"Selamat datang di Game Tebak Buah!\")\n",
        "    print(\"Saya akan memilih sebuah buah secara acak, dan Anda harus menebaknya.\")\n",
        "    print(\"Anda memiliki 10 kesempatan untuk menebak. Selamat bermain!\")\n",
        "\n",
        "    #memilih sebuah buah secara acak\n",
        "    buah_terpilih = random.choice(buah)\n",
        "\n",
        "    #jumlah kesempatan\n",
        "    kesempatan = 10\n",
        "\n",
        "    while kesempatan > 0:\n",
        "        #menampilkan sisa kesempatan\n",
        "        print(\"\\nAnda memiliki\", kesempatan, \"kesempatan.\")\n",
        "\n",
        "        #pemain menebak buah\n",
        "        tebakan = input(\"Tebak buah: \").lower()\n",
        "\n",
        "        #memeriksa apakah tebakan benar\n",
        "        if tebakan == buah_terpilih:\n",
        "            print(\"Selamat! Anda benar. Buah yang saya pikirkan adalah\", buah_terpilih)\n",
        "            break\n",
        "        else:\n",
        "            print(\"Tebakan Anda salah. Coba lagi.\")\n",
        "            kesempatan -= 1\n",
        "\n",
        "    if kesempatan == 0:\n",
        "        print(\"\\nAnda kehabisan kesempatan. Buah yang benar adalah\", buah_terpilih)\n",
        "\n",
        "    print(\"Terima kasih sudah bermain!\")\n",
        "\n",
        "if __name__ == \"__main__\":\n",
        "    main()\n"
      ],
      "metadata": {
        "colab": {
          "base_uri": "https://localhost:8080/"
        },
        "id": "onGM1qohd0dT",
        "outputId": "2fb48b23-dfd2-4cfa-a441-85dbb83dd740"
      },
      "execution_count": 2,
      "outputs": [
        {
          "output_type": "stream",
          "name": "stdout",
          "text": [
            "Selamat datang di Game Tebak Buah!\n",
            "Saya akan memilih sebuah buah secara acak, dan Anda harus menebaknya.\n",
            "Anda memiliki 10 kesempatan untuk menebak. Selamat bermain!\n",
            "\n",
            "Anda memiliki 10 kesempatan.\n",
            "Tebak buah: mangga\n",
            "Tebakan Anda salah. Coba lagi.\n",
            "\n",
            "Anda memiliki 9 kesempatan.\n",
            "Tebak buah: apel\n",
            "Selamat! Anda benar. Buah yang saya pikirkan adalah apel\n",
            "Terima kasih sudah bermain!\n"
          ]
        }
      ]
    }
  ]
}