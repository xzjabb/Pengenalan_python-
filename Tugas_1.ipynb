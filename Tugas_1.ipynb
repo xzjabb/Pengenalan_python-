{
  "nbformat": 4,
  "nbformat_minor": 0,
  "metadata": {
    "colab": {
      "provenance": [],
      "authorship_tag": "ABX9TyP4qCnQVzevki1bhhD1coM4",
      "include_colab_link": true
    },
    "kernelspec": {
      "name": "python3",
      "display_name": "Python 3"
    },
    "language_info": {
      "name": "python"
    }
  },
  "cells": [
    {
      "cell_type": "markdown",
      "metadata": {
        "id": "view-in-github",
        "colab_type": "text"
      },
      "source": [
        "<a href=\"https://colab.research.google.com/github/xzjabb/Pengenalan_python-/blob/main/Tugas_1.ipynb\" target=\"_parent\"><img src=\"https://colab.research.google.com/assets/colab-badge.svg\" alt=\"Open In Colab\"/></a>"
      ]
    },
    {
      "cell_type": "markdown",
      "source": [
        "1.buatlah program python yang menampilkan hasil operasi aritmatika,perbandingan,logika,identitas,dan kenggotaan?\n",
        "2.buatlah program menggunakan 1 kondisi?\n",
        "3.buatlah program menggunakan 2 kondisi,lebih dari 2 kondisi,nested if?\n",
        "4.buatlah program python yang menampilkan pesan bilangan positif jika nilai a positif,bilangan negatif jika nilai a negatif,bilangan 0 jika nilai =0?\n",
        "5.buatlah tugas program sederhana menggunakan perulangan for pada python?\n",
        " 6.buatlah tugas program sederhana tentang game tebak angka dan game sesuai temen kelompok?"
      ],
      "metadata": {
        "id": "vq_SJHVOYt8-"
      }
    },
    {
      "cell_type": "markdown",
      "source": [
        "1.buatlah program python yang menampilkan hasil operasi aritmatika,perbandingan,logika,identitas,dan kenggotaan?"
      ],
      "metadata": {
        "id": "cwuACEkJY5D-"
      }
    },
    {
      "cell_type": "code",
      "source": [
        "#operasi aritmatika\n",
        "\n",
        "a = 10\n",
        "b = 6\n",
        "\n",
        "c = a + b\n",
        "d = a - b\n",
        "e = a / b\n",
        "f = a * b\n",
        "\n",
        "print (c)\n",
        "type (c)\n",
        "\n",
        "print (d)\n",
        "type (d)\n",
        "\n",
        "print (e)\n",
        "type (e)\n",
        "\n",
        "print (f)\n",
        "type (f)"
      ],
      "metadata": {
        "colab": {
          "base_uri": "https://localhost:8080/"
        },
        "id": "jVAJH70eY_ru",
        "outputId": "69844b0c-aef9-40dd-a3c4-cb497489e185"
      },
      "execution_count": 1,
      "outputs": [
        {
          "output_type": "stream",
          "name": "stdout",
          "text": [
            "16\n",
            "4\n",
            "1.6666666666666667\n",
            "60\n"
          ]
        },
        {
          "output_type": "execute_result",
          "data": {
            "text/plain": [
              "int"
            ]
          },
          "metadata": {},
          "execution_count": 1
        }
      ]
    },
    {
      "cell_type": "code",
      "source": [
        "#operasi perbandingan\n",
        "\n",
        "a = 20\n",
        "b = 5\n",
        "\n",
        "c = a > b\n",
        "d = a < b\n",
        "e = a >= b\n",
        "f = a <= b\n",
        "g = a == b\n",
        "\n",
        "print (c)\n",
        "print (d)\n",
        "print (e)\n",
        "print (f)\n",
        "print (g)"
      ],
      "metadata": {
        "colab": {
          "base_uri": "https://localhost:8080/"
        },
        "id": "qi0CkN8fOKLk",
        "outputId": "1d086a2d-afc6-4054-ed49-d9d353212d43"
      },
      "execution_count": 3,
      "outputs": [
        {
          "output_type": "stream",
          "name": "stdout",
          "text": [
            "True\n",
            "False\n",
            "True\n",
            "False\n",
            "False\n"
          ]
        }
      ]
    },
    {
      "cell_type": "code",
      "source": [
        "#operator logika\n",
        "\n",
        "a = 14\n",
        "b = 4\n",
        "\n",
        "c = a == 4 and b == 14\n",
        "d = a == 14 or b == 14\n",
        "\n",
        "print(c)\n",
        "print(d)"
      ],
      "metadata": {
        "colab": {
          "base_uri": "https://localhost:8080/"
        },
        "id": "Jn9P7eedPQ0z",
        "outputId": "598f5051-e2bd-4a69-d5b9-efb5931aed55"
      },
      "execution_count": 10,
      "outputs": [
        {
          "output_type": "stream",
          "name": "stdout",
          "text": [
            "False\n",
            "True\n"
          ]
        }
      ]
    },
    {
      "cell_type": "markdown",
      "source": [
        "2.buatlah program menggunakan 1 kondisi"
      ],
      "metadata": {
        "id": "plbHAlRlQl5F"
      }
    },
    {
      "cell_type": "code",
      "source": [
        "a = 10\n",
        "\n",
        "if a == 10:\n",
        "  print('angka benar')"
      ],
      "metadata": {
        "colab": {
          "base_uri": "https://localhost:8080/"
        },
        "id": "LlXzaxtaQrCY",
        "outputId": "0818f862-082e-4fc9-c0ed-279195ff25db"
      },
      "execution_count": 12,
      "outputs": [
        {
          "output_type": "stream",
          "name": "stdout",
          "text": [
            "angka benar\n"
          ]
        }
      ]
    },
    {
      "cell_type": "markdown",
      "source": [
        "3.buatlah program menggunakan 2 kondisi,lebih dari 2 kondisi,nested if"
      ],
      "metadata": {
        "id": "i147QC-LRrLF"
      }
    },
    {
      "cell_type": "code",
      "source": [
        "#2 kondisi\n",
        "a = 10\n",
        "if a == 5:\n",
        "  print('angka benar')\n",
        "else:\n",
        "  print('angka salah')"
      ],
      "metadata": {
        "colab": {
          "base_uri": "https://localhost:8080/"
        },
        "id": "gkbss99hRsWb",
        "outputId": "bd9ec403-2b77-41f6-b529-fb95d43a8353"
      },
      "execution_count": 15,
      "outputs": [
        {
          "output_type": "stream",
          "name": "stdout",
          "text": [
            "angka salah\n"
          ]
        }
      ]
    },
    {
      "cell_type": "code",
      "source": [
        "#lebih dari 2 kondisi\n",
        "a = 32\n",
        "if a == 22:\n",
        "  print('angka adalah 10')\n",
        "elif a < 20:\n",
        "  print('angka di kurang 20')\n",
        "else:\n",
        "  print('angka lebih dari 20')\n"
      ],
      "metadata": {
        "colab": {
          "base_uri": "https://localhost:8080/"
        },
        "id": "1_Ks_hVkSMmb",
        "outputId": "006e4e1a-202f-4ceb-c467-801ed609b021"
      },
      "execution_count": 21,
      "outputs": [
        {
          "output_type": "stream",
          "name": "stdout",
          "text": [
            "angka di kurang 20\n"
          ]
        }
      ]
    },
    {
      "cell_type": "markdown",
      "source": [
        "4.buatlah program python yang menampilkan pesan bilangan positif jika nilai a positif,bilangan negatif jika nilai a negatif,bilangan 0 jika nilai =0?"
      ],
      "metadata": {
        "id": "k0uMRGO1TkI1"
      }
    },
    {
      "cell_type": "code",
      "source": [
        "angka = 0\n",
        "if angka > 0:\n",
        "  print('angka positif')\n",
        "elif angka == 0:\n",
        "  print('angka 0')\n",
        "else:\n",
        "  print('angka negatif')"
      ],
      "metadata": {
        "colab": {
          "base_uri": "https://localhost:8080/"
        },
        "id": "JeDnxj-nTqF2",
        "outputId": "c5290040-7c52-4cf0-bf34-43964c977276"
      },
      "execution_count": 24,
      "outputs": [
        {
          "output_type": "stream",
          "name": "stdout",
          "text": [
            "angka 0\n"
          ]
        }
      ]
    },
    {
      "cell_type": "markdown",
      "source": [
        "5.buatlah tugas program sederhana menggunakan perulangan for pada python?"
      ],
      "metadata": {
        "id": "T7Z5EOW2UoxR"
      }
    },
    {
      "cell_type": "code",
      "source": [
        "for i in range(3):\n",
        "  print('hallo guys')"
      ],
      "metadata": {
        "id": "suSS9j0IUs0V",
        "outputId": "dd92286c-39c0-4f7d-dfeb-5d82db596fac",
        "colab": {
          "base_uri": "https://localhost:8080/"
        }
      },
      "execution_count": 25,
      "outputs": [
        {
          "output_type": "stream",
          "name": "stdout",
          "text": [
            "hallo guys\n",
            "hallo guys\n",
            "hallo guys\n"
          ]
        }
      ]
    },
    {
      "cell_type": "code",
      "source": [
        "for i in range (3):\n",
        "  for b in range (5):\n",
        "      print(\"aku kamu\")\n",
        "  print(\"kamu aku\")"
      ],
      "metadata": {
        "id": "Ke2y4JsMVFME"
      },
      "execution_count": null,
      "outputs": []
    },
    {
      "cell_type": "markdown",
      "source": [
        " 6.buatlah tugas program sederhana tentang game tebak angka dan game sesuai temen kelompok?\n",
        "\n"
      ],
      "metadata": {
        "id": "Fk8c8eCeVtRk"
      }
    },
    {
      "cell_type": "code",
      "source": [
        "#tebak angka\n",
        "angka = input(\"masukan angka\")\n",
        "if angka == 3:\n",
        "  print('angka benar')\n",
        "else:\n",
        "  print('angka salah')"
      ],
      "metadata": {
        "id": "pIhce23oVuCb",
        "outputId": "8d2b887c-87e4-422a-cf19-4090df1ef2d7",
        "colab": {
          "base_uri": "https://localhost:8080/"
        }
      },
      "execution_count": 29,
      "outputs": [
        {
          "output_type": "stream",
          "name": "stdout",
          "text": [
            "masukan angka4\n",
            "angka salah\n"
          ]
        }
      ]
    }
  ]
}