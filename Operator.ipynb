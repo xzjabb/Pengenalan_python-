{
  "nbformat": 4,
  "nbformat_minor": 0,
  "metadata": {
    "colab": {
      "provenance": [],
      "authorship_tag": "ABX9TyNx/BKa0DhLH7qpnXRqXvSg",
      "include_colab_link": true
    },
    "kernelspec": {
      "name": "python3",
      "display_name": "Python 3"
    },
    "language_info": {
      "name": "python"
    }
  },
  "cells": [
    {
      "cell_type": "markdown",
      "metadata": {
        "id": "view-in-github",
        "colab_type": "text"
      },
      "source": [
        "<a href=\"https://colab.research.google.com/github/xzjabb/Pengenalan_python-/blob/main/Operator.ipynb\" target=\"_parent\"><img src=\"https://colab.research.google.com/assets/colab-badge.svg\" alt=\"Open In Colab\"/></a>"
      ]
    },
    {
      "cell_type": "markdown",
      "source": [
        "# Operator\n",
        "Operator adalah simbol aritmatika pada bahasa pemrograman Python atau bahasa lainnya, untuk melihat seluruh operator yang tersedia pada Python Anda dapat melihat table di bawah ini"
      ],
      "metadata": {
        "id": "_WSLGCIbIw8N"
      }
    },
    {
      "cell_type": "markdown",
      "source": [
        "# Operator Aritmatika\n",
        "Operator yang akan kita bahas adalah penambahan, pengurangan, perkalian, eksponensial, modulus, dan pembagian. Mari kita lihat operasi aritmatika sederhana pada bahasa pemrograman Python."
      ],
      "metadata": {
        "id": "3jDAtddmI7JS"
      }
    },
    {
      "cell_type": "code",
      "source": [
        "a = 4\n",
        "b = 3\n",
        "print (a + b)\n",
        "print (a - b)\n",
        "print (a * b)\n",
        "print (a / b)\n",
        "print (a ** b)"
      ],
      "metadata": {
        "colab": {
          "base_uri": "https://localhost:8080/"
        },
        "id": "G4obf1DcJMJN",
        "outputId": "ae6d3978-a93b-4451-a366-da6db6a029d1"
      },
      "execution_count": null,
      "outputs": [
        {
          "output_type": "stream",
          "name": "stdout",
          "text": [
            "7\n",
            "1\n",
            "12\n",
            "1.3333333333333333\n",
            "64\n"
          ]
        }
      ]
    },
    {
      "cell_type": "markdown",
      "source": [
        "# Operator Pembadingan\n",
        "Contoh operator pembanding adalah sama dengan, lebih besar dari, serta kurang dari."
      ],
      "metadata": {
        "id": "JZAkItVxJ5Z_"
      }
    },
    {
      "cell_type": "code",
      "source": [
        "a = 5\n",
        "b = 2\n",
        "\n",
        "print(a < b)\n",
        "print(a > b)\n",
        "print(a == b)\n",
        "print(a <= b)\n",
        "print(a >= b)"
      ],
      "metadata": {
        "colab": {
          "base_uri": "https://localhost:8080/"
        },
        "id": "bxzOqj_wKhLn",
        "outputId": "5166558c-7ec9-4527-a637-5c5b2f29260b"
      },
      "execution_count": null,
      "outputs": [
        {
          "output_type": "stream",
          "name": "stdout",
          "text": [
            "False\n",
            "True\n",
            "False\n",
            "False\n",
            "True\n"
          ]
        }
      ]
    },
    {
      "cell_type": "markdown",
      "source": [
        "# Operator logika\n",
        "Operator ini \"tidak termasuk\", \"dan\", \"dan atau\""
      ],
      "metadata": {
        "id": "4jjgKXodM_D2"
      }
    },
    {
      "cell_type": "code",
      "source": [
        "a = 10\n",
        "b = 2\n",
        "\n",
        "print (a==2 and b==10)\n",
        "print (a==10 or b==10)\n",
        "print (a==10)\n",
        "print (a==2)"
      ],
      "metadata": {
        "colab": {
          "base_uri": "https://localhost:8080/"
        },
        "id": "35QoUc9oNHF0",
        "outputId": "c58ce5b1-f825-4c1e-cbfc-e4804ed72c51"
      },
      "execution_count": null,
      "outputs": [
        {
          "output_type": "stream",
          "name": "stdout",
          "text": [
            "False\n",
            "True\n",
            "True\n",
            "False\n"
          ]
        }
      ]
    }
  ]
}